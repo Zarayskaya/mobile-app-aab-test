{
 "cells": [
  {
   "cell_type": "markdown",
   "id": "cff419fe",
   "metadata": {},
   "source": [
    "<div style=\"border: solid LightSeaGreen 2px; padding: 10px; font-size: 16px;\"><h1 align=\"center\">Сборный проект \"Исследование лога событий и А/А/В-тест изменения шрифта в приложении\"</h1></div>"
   ]
  },
  {
   "cell_type": "markdown",
   "id": "8786ed8d",
   "metadata": {},
   "source": [
    "<div style=\"border: solid LightSeaGreen 2px; padding: 10px; font-size: 16px;\">\n",
    "<h3>Основная цель работы:</h3>\n",
    "    <p>\n",
    "Изучить поведение пользователей мобильного приложения сервиса по продаже продуктов питания.\n",
    "<p>\n",
    "<h3>Ключевые задачи исследования:</h3>\n",
    "<ul>\n",
    "    <li>Изучение событийной воронки продаж с целью определения \"пробуксовывающих\" этапов, формирование рекомендаций по улучшению конверсии пользователей внутри воронки;\n",
    "    <li>Изучение поведения пользователя после замены шрифта в приложении. Расчет уровня значимости различий в поведении пользователя, рекомендации по введению или не введению изменений.\n",
    "</ul>\n",
    "<p>\n",
    "<h3>Этапы работы:</h3>\n",
    "<ol>\n",
    "<li> Знакомство и подготовка полученных данных к работе;\n",
    "<li> Формирование событийной воронки продаж, поиск этапа, на котором теряется наибольшее количество пользователей;\n",
    "<li> Проведение А/А теста как подготовка к запуску А/А/В-теста по исследованию изменения шрифта. Проверка корректности работы механизма расчета теста.\n",
    "<li> Анализ результатов А/А/В теста с целью проверки необходимости изменения шрифта в приложении;\n",
    "<li> Формирование итоговых выводов и рекомендаций.\n",
    "</ol>\n",
    "</div>"
   ]
  },
  {
   "cell_type": "markdown",
   "id": "5cd9ac80",
   "metadata": {},
   "source": [
    "## Знакомство с данными и предварительная их обработка"
   ]
  },
  {
   "cell_type": "code",
   "execution_count": 1,
   "id": "2ef75f81",
   "metadata": {},
   "outputs": [],
   "source": [
    "#импорт библиотек для работы\n",
    "import pandas as pd\n",
    "import numpy as np\n",
    "import matplotlib.pyplot as plt\n",
    "import seaborn as sns\n",
    "import datetime as dt\n",
    "import scipy.stats as st\n",
    "import math as mth\n",
    "from plotly import graph_objects as go"
   ]
  },
  {
   "cell_type": "markdown",
   "id": "34937724",
   "metadata": {},
   "source": [
    "<div style=\"border: solid LightSeaGreen 2px; padding: 10px; font-size: 16px;\">\n",
    "    Имеется файл с журналом событий мобильного приложения. \n",
    "    <p>Также в файле есть указание на отношение записи к той или иной группе проведенного А/А/В теста.\n",
    "    <p>Аннотация:\n",
    "    <ul>\n",
    "<li> EventName — название события;\n",
    "<li> DeviceIDHash — уникальный идентификатор пользователя;\n",
    "<li> EventTimestamp — время события;\n",
    "<li> ExpId — номер эксперимента: 246 и 247 — контрольные группы, а 248 — экспериментальная.\n",
    "</ul>"
   ]
  },
  {
   "cell_type": "code",
   "execution_count": 7,
   "id": "33b5b9d4",
   "metadata": {},
   "outputs": [],
   "source": [
    "#загрузка данных\n",
    "try:    \n",
    "    logs = pd.read_csv('/Users/macbookair/Desktop/Практикум/logs_exp.csv', sep='\\t')\n",
    "except FileNotFoundError:\n",
    "    logs = pd.read_csv('/datasets/logs_exp.csv', sep='\\t')"
   ]
  },
  {
   "cell_type": "code",
   "execution_count": 8,
   "id": "0bc0fe06",
   "metadata": {},
   "outputs": [
    {
     "data": {
      "text/html": [
       "<div>\n",
       "<style scoped>\n",
       "    .dataframe tbody tr th:only-of-type {\n",
       "        vertical-align: middle;\n",
       "    }\n",
       "\n",
       "    .dataframe tbody tr th {\n",
       "        vertical-align: top;\n",
       "    }\n",
       "\n",
       "    .dataframe thead th {\n",
       "        text-align: right;\n",
       "    }\n",
       "</style>\n",
       "<table border=\"1\" class=\"dataframe\">\n",
       "  <thead>\n",
       "    <tr style=\"text-align: right;\">\n",
       "      <th></th>\n",
       "      <th>EventName</th>\n",
       "      <th>DeviceIDHash</th>\n",
       "      <th>EventTimestamp</th>\n",
       "      <th>ExpId</th>\n",
       "    </tr>\n",
       "  </thead>\n",
       "  <tbody>\n",
       "    <tr>\n",
       "      <th>0</th>\n",
       "      <td>MainScreenAppear</td>\n",
       "      <td>4575588528974610257</td>\n",
       "      <td>1564029816</td>\n",
       "      <td>246</td>\n",
       "    </tr>\n",
       "    <tr>\n",
       "      <th>1</th>\n",
       "      <td>MainScreenAppear</td>\n",
       "      <td>7416695313311560658</td>\n",
       "      <td>1564053102</td>\n",
       "      <td>246</td>\n",
       "    </tr>\n",
       "    <tr>\n",
       "      <th>2</th>\n",
       "      <td>PaymentScreenSuccessful</td>\n",
       "      <td>3518123091307005509</td>\n",
       "      <td>1564054127</td>\n",
       "      <td>248</td>\n",
       "    </tr>\n",
       "    <tr>\n",
       "      <th>3</th>\n",
       "      <td>CartScreenAppear</td>\n",
       "      <td>3518123091307005509</td>\n",
       "      <td>1564054127</td>\n",
       "      <td>248</td>\n",
       "    </tr>\n",
       "    <tr>\n",
       "      <th>4</th>\n",
       "      <td>PaymentScreenSuccessful</td>\n",
       "      <td>6217807653094995999</td>\n",
       "      <td>1564055322</td>\n",
       "      <td>248</td>\n",
       "    </tr>\n",
       "    <tr>\n",
       "      <th>5</th>\n",
       "      <td>CartScreenAppear</td>\n",
       "      <td>6217807653094995999</td>\n",
       "      <td>1564055323</td>\n",
       "      <td>248</td>\n",
       "    </tr>\n",
       "    <tr>\n",
       "      <th>6</th>\n",
       "      <td>OffersScreenAppear</td>\n",
       "      <td>8351860793733343758</td>\n",
       "      <td>1564066242</td>\n",
       "      <td>246</td>\n",
       "    </tr>\n",
       "    <tr>\n",
       "      <th>7</th>\n",
       "      <td>MainScreenAppear</td>\n",
       "      <td>5682100281902512875</td>\n",
       "      <td>1564085677</td>\n",
       "      <td>246</td>\n",
       "    </tr>\n",
       "    <tr>\n",
       "      <th>8</th>\n",
       "      <td>MainScreenAppear</td>\n",
       "      <td>1850981295691852772</td>\n",
       "      <td>1564086702</td>\n",
       "      <td>247</td>\n",
       "    </tr>\n",
       "    <tr>\n",
       "      <th>9</th>\n",
       "      <td>MainScreenAppear</td>\n",
       "      <td>5407636962369102641</td>\n",
       "      <td>1564112112</td>\n",
       "      <td>246</td>\n",
       "    </tr>\n",
       "    <tr>\n",
       "      <th>10</th>\n",
       "      <td>MainScreenAppear</td>\n",
       "      <td>948465712512390382</td>\n",
       "      <td>1564119214</td>\n",
       "      <td>247</td>\n",
       "    </tr>\n",
       "    <tr>\n",
       "      <th>11</th>\n",
       "      <td>MainScreenAppear</td>\n",
       "      <td>2547684315586332355</td>\n",
       "      <td>1564123826</td>\n",
       "      <td>248</td>\n",
       "    </tr>\n",
       "    <tr>\n",
       "      <th>12</th>\n",
       "      <td>MainScreenAppear</td>\n",
       "      <td>8885295911290764495</td>\n",
       "      <td>1564124085</td>\n",
       "      <td>248</td>\n",
       "    </tr>\n",
       "    <tr>\n",
       "      <th>13</th>\n",
       "      <td>MainScreenAppear</td>\n",
       "      <td>2140904690380565988</td>\n",
       "      <td>1564125732</td>\n",
       "      <td>247</td>\n",
       "    </tr>\n",
       "    <tr>\n",
       "      <th>14</th>\n",
       "      <td>MainScreenAppear</td>\n",
       "      <td>4444236400320272864</td>\n",
       "      <td>1564135560</td>\n",
       "      <td>246</td>\n",
       "    </tr>\n",
       "    <tr>\n",
       "      <th>15</th>\n",
       "      <td>MainScreenAppear</td>\n",
       "      <td>8947220251154009657</td>\n",
       "      <td>1564140668</td>\n",
       "      <td>248</td>\n",
       "    </tr>\n",
       "    <tr>\n",
       "      <th>16</th>\n",
       "      <td>MainScreenAppear</td>\n",
       "      <td>5839517684026830712</td>\n",
       "      <td>1564141421</td>\n",
       "      <td>247</td>\n",
       "    </tr>\n",
       "    <tr>\n",
       "      <th>17</th>\n",
       "      <td>MainScreenAppear</td>\n",
       "      <td>7540130374989658208</td>\n",
       "      <td>1564144283</td>\n",
       "      <td>248</td>\n",
       "    </tr>\n",
       "    <tr>\n",
       "      <th>18</th>\n",
       "      <td>CartScreenAppear</td>\n",
       "      <td>2575393697599976818</td>\n",
       "      <td>1564148945</td>\n",
       "      <td>247</td>\n",
       "    </tr>\n",
       "    <tr>\n",
       "      <th>19</th>\n",
       "      <td>MainScreenAppear</td>\n",
       "      <td>4651149533106703820</td>\n",
       "      <td>1564149866</td>\n",
       "      <td>246</td>\n",
       "    </tr>\n",
       "  </tbody>\n",
       "</table>\n",
       "</div>"
      ],
      "text/plain": [
       "                  EventName         DeviceIDHash  EventTimestamp  ExpId\n",
       "0          MainScreenAppear  4575588528974610257      1564029816    246\n",
       "1          MainScreenAppear  7416695313311560658      1564053102    246\n",
       "2   PaymentScreenSuccessful  3518123091307005509      1564054127    248\n",
       "3          CartScreenAppear  3518123091307005509      1564054127    248\n",
       "4   PaymentScreenSuccessful  6217807653094995999      1564055322    248\n",
       "5          CartScreenAppear  6217807653094995999      1564055323    248\n",
       "6        OffersScreenAppear  8351860793733343758      1564066242    246\n",
       "7          MainScreenAppear  5682100281902512875      1564085677    246\n",
       "8          MainScreenAppear  1850981295691852772      1564086702    247\n",
       "9          MainScreenAppear  5407636962369102641      1564112112    246\n",
       "10         MainScreenAppear   948465712512390382      1564119214    247\n",
       "11         MainScreenAppear  2547684315586332355      1564123826    248\n",
       "12         MainScreenAppear  8885295911290764495      1564124085    248\n",
       "13         MainScreenAppear  2140904690380565988      1564125732    247\n",
       "14         MainScreenAppear  4444236400320272864      1564135560    246\n",
       "15         MainScreenAppear  8947220251154009657      1564140668    248\n",
       "16         MainScreenAppear  5839517684026830712      1564141421    247\n",
       "17         MainScreenAppear  7540130374989658208      1564144283    248\n",
       "18         CartScreenAppear  2575393697599976818      1564148945    247\n",
       "19         MainScreenAppear  4651149533106703820      1564149866    246"
      ]
     },
     "metadata": {},
     "output_type": "display_data"
    },
    {
     "name": "stdout",
     "output_type": "stream",
     "text": [
      "<class 'pandas.core.frame.DataFrame'>\n",
      "RangeIndex: 244126 entries, 0 to 244125\n",
      "Data columns (total 4 columns):\n",
      " #   Column          Non-Null Count   Dtype \n",
      "---  ------          --------------   ----- \n",
      " 0   EventName       244126 non-null  object\n",
      " 1   DeviceIDHash    244126 non-null  int64 \n",
      " 2   EventTimestamp  244126 non-null  int64 \n",
      " 3   ExpId           244126 non-null  int64 \n",
      "dtypes: int64(3), object(1)\n",
      "memory usage: 7.5+ MB\n"
     ]
    },
    {
     "data": {
      "text/html": [
       "<div>\n",
       "<style scoped>\n",
       "    .dataframe tbody tr th:only-of-type {\n",
       "        vertical-align: middle;\n",
       "    }\n",
       "\n",
       "    .dataframe tbody tr th {\n",
       "        vertical-align: top;\n",
       "    }\n",
       "\n",
       "    .dataframe thead th {\n",
       "        text-align: right;\n",
       "    }\n",
       "</style>\n",
       "<table border=\"1\" class=\"dataframe\">\n",
       "  <thead>\n",
       "    <tr style=\"text-align: right;\">\n",
       "      <th></th>\n",
       "      <th>DeviceIDHash</th>\n",
       "      <th>EventTimestamp</th>\n",
       "      <th>ExpId</th>\n",
       "    </tr>\n",
       "  </thead>\n",
       "  <tbody>\n",
       "    <tr>\n",
       "      <th>count</th>\n",
       "      <td>2.441260e+05</td>\n",
       "      <td>2.441260e+05</td>\n",
       "      <td>244126.000000</td>\n",
       "    </tr>\n",
       "    <tr>\n",
       "      <th>mean</th>\n",
       "      <td>4.627568e+18</td>\n",
       "      <td>1.564914e+09</td>\n",
       "      <td>247.022296</td>\n",
       "    </tr>\n",
       "    <tr>\n",
       "      <th>std</th>\n",
       "      <td>2.642425e+18</td>\n",
       "      <td>1.771343e+05</td>\n",
       "      <td>0.824434</td>\n",
       "    </tr>\n",
       "    <tr>\n",
       "      <th>min</th>\n",
       "      <td>6.888747e+15</td>\n",
       "      <td>1.564030e+09</td>\n",
       "      <td>246.000000</td>\n",
       "    </tr>\n",
       "    <tr>\n",
       "      <th>25%</th>\n",
       "      <td>2.372212e+18</td>\n",
       "      <td>1.564757e+09</td>\n",
       "      <td>246.000000</td>\n",
       "    </tr>\n",
       "    <tr>\n",
       "      <th>50%</th>\n",
       "      <td>4.623192e+18</td>\n",
       "      <td>1.564919e+09</td>\n",
       "      <td>247.000000</td>\n",
       "    </tr>\n",
       "    <tr>\n",
       "      <th>75%</th>\n",
       "      <td>6.932517e+18</td>\n",
       "      <td>1.565075e+09</td>\n",
       "      <td>248.000000</td>\n",
       "    </tr>\n",
       "    <tr>\n",
       "      <th>max</th>\n",
       "      <td>9.222603e+18</td>\n",
       "      <td>1.565213e+09</td>\n",
       "      <td>248.000000</td>\n",
       "    </tr>\n",
       "  </tbody>\n",
       "</table>\n",
       "</div>"
      ],
      "text/plain": [
       "       DeviceIDHash  EventTimestamp          ExpId\n",
       "count  2.441260e+05    2.441260e+05  244126.000000\n",
       "mean   4.627568e+18    1.564914e+09     247.022296\n",
       "std    2.642425e+18    1.771343e+05       0.824434\n",
       "min    6.888747e+15    1.564030e+09     246.000000\n",
       "25%    2.372212e+18    1.564757e+09     246.000000\n",
       "50%    4.623192e+18    1.564919e+09     247.000000\n",
       "75%    6.932517e+18    1.565075e+09     248.000000\n",
       "max    9.222603e+18    1.565213e+09     248.000000"
      ]
     },
     "metadata": {},
     "output_type": "display_data"
    },
    {
     "name": "stdout",
     "output_type": "stream",
     "text": [
      "413\n"
     ]
    }
   ],
   "source": [
    "#знакомство с датасетами\n",
    "def data_info(data):\n",
    "    display(data.head(20)), data.info(), display(data.describe()), print(data.duplicated().sum())\n",
    "data_info(logs)"
   ]
  },
  {
   "cell_type": "markdown",
   "id": "a1afc90b",
   "metadata": {},
   "source": [
    "<div style=\"border: solid LightSeaGreen 2px; padding: 10px; font-size: 16px;\">Первичная проверка данных показала следующее:\n",
    "   <ul>\n",
    "       <li> Отсуствуют пропуски в данных, имеем чуть более 244 тысяч записей\n",
    "       <li> Есть 413 строк - явных дубликатов\n",
    "       <li> Столбец с датой и временем необходимо перевести в читаемый формат\n",
    "       <li> Названия столбцов неудобны для работы, необходимо изменить\n",
    "       <li> Наименования групп эксперимента неудобны для работы. Чтобы оценивать информацию было удобно наглядно, изменим цифровые значения на строковые\n",
    "       <li> Строковые названия событий необходимо дополнительно проверить на наличие скрытых дубликатов\n",
    "   </ul>\n",
    "</div>"
   ]
  },
  {
   "cell_type": "code",
   "execution_count": 4,
   "id": "ac2e68da",
   "metadata": {},
   "outputs": [],
   "source": [
    "#в первую очередь удаляем дубликаты\n",
    "logs=logs.drop_duplicates()"
   ]
  },
  {
   "cell_type": "code",
   "execution_count": 5,
   "id": "08206227",
   "metadata": {},
   "outputs": [],
   "source": [
    "#изменение названия столбцов (сознательно без применения str.lower(), чтобы задать более понятные названия)\n",
    "logs = logs.rename(\n",
    "    columns={'EventName':'event_name', 'DeviceIDHash':'user_id', 'EventTimestamp':'event_timestamp', 'ExpId':'group'}\n",
    ")"
   ]
  },
  {
   "cell_type": "code",
   "execution_count": 6,
   "id": "9034539b",
   "metadata": {},
   "outputs": [
    {
     "ename": "KeyError",
     "evalue": "'event_timestamp'",
     "output_type": "error",
     "traceback": [
      "\u001b[0;31m---------------------------------------------------------------------------\u001b[0m",
      "\u001b[0;31mKeyError\u001b[0m                                  Traceback (most recent call last)",
      "File \u001b[0;32m~/opt/anaconda3/envs/da_practicum_env/lib/python3.9/site-packages/pandas/core/indexes/base.py:3803\u001b[0m, in \u001b[0;36mIndex.get_loc\u001b[0;34m(self, key, method, tolerance)\u001b[0m\n\u001b[1;32m   3802\u001b[0m \u001b[38;5;28;01mtry\u001b[39;00m:\n\u001b[0;32m-> 3803\u001b[0m     \u001b[38;5;28;01mreturn\u001b[39;00m \u001b[38;5;28;43mself\u001b[39;49m\u001b[38;5;241;43m.\u001b[39;49m\u001b[43m_engine\u001b[49m\u001b[38;5;241;43m.\u001b[39;49m\u001b[43mget_loc\u001b[49m\u001b[43m(\u001b[49m\u001b[43mcasted_key\u001b[49m\u001b[43m)\u001b[49m\n\u001b[1;32m   3804\u001b[0m \u001b[38;5;28;01mexcept\u001b[39;00m \u001b[38;5;167;01mKeyError\u001b[39;00m \u001b[38;5;28;01mas\u001b[39;00m err:\n",
      "File \u001b[0;32m~/opt/anaconda3/envs/da_practicum_env/lib/python3.9/site-packages/pandas/_libs/index.pyx:138\u001b[0m, in \u001b[0;36mpandas._libs.index.IndexEngine.get_loc\u001b[0;34m()\u001b[0m\n",
      "File \u001b[0;32m~/opt/anaconda3/envs/da_practicum_env/lib/python3.9/site-packages/pandas/_libs/index.pyx:165\u001b[0m, in \u001b[0;36mpandas._libs.index.IndexEngine.get_loc\u001b[0;34m()\u001b[0m\n",
      "File \u001b[0;32mpandas/_libs/hashtable_class_helper.pxi:5745\u001b[0m, in \u001b[0;36mpandas._libs.hashtable.PyObjectHashTable.get_item\u001b[0;34m()\u001b[0m\n",
      "File \u001b[0;32mpandas/_libs/hashtable_class_helper.pxi:5753\u001b[0m, in \u001b[0;36mpandas._libs.hashtable.PyObjectHashTable.get_item\u001b[0;34m()\u001b[0m\n",
      "\u001b[0;31mKeyError\u001b[0m: 'event_timestamp'",
      "\nThe above exception was the direct cause of the following exception:\n",
      "\u001b[0;31mKeyError\u001b[0m                                  Traceback (most recent call last)",
      "Cell \u001b[0;32mIn [6], line 2\u001b[0m\n\u001b[1;32m      1\u001b[0m \u001b[38;5;66;03m#добавляем столбец с датой и временем в читаемом формате, и для дальнейших вычислений, также в формате даты\u001b[39;00m\n\u001b[0;32m----> 2\u001b[0m logs[\u001b[38;5;124m'\u001b[39m\u001b[38;5;124mevent_datetime\u001b[39m\u001b[38;5;124m'\u001b[39m] \u001b[38;5;241m=\u001b[39m pd\u001b[38;5;241m.\u001b[39mto_datetime(\u001b[43mlogs\u001b[49m\u001b[43m[\u001b[49m\u001b[38;5;124;43m'\u001b[39;49m\u001b[38;5;124;43mevent_timestamp\u001b[39;49m\u001b[38;5;124;43m'\u001b[39;49m\u001b[43m]\u001b[49m, unit\u001b[38;5;241m=\u001b[39m\u001b[38;5;124m'\u001b[39m\u001b[38;5;124ms\u001b[39m\u001b[38;5;124m'\u001b[39m)\n\u001b[1;32m      3\u001b[0m logs[\u001b[38;5;124m'\u001b[39m\u001b[38;5;124mevent_date\u001b[39m\u001b[38;5;124m'\u001b[39m] \u001b[38;5;241m=\u001b[39m logs[\u001b[38;5;124m'\u001b[39m\u001b[38;5;124mevent_datetime\u001b[39m\u001b[38;5;124m'\u001b[39m]\u001b[38;5;241m.\u001b[39mdt\u001b[38;5;241m.\u001b[39mdate\n",
      "File \u001b[0;32m~/opt/anaconda3/envs/da_practicum_env/lib/python3.9/site-packages/pandas/core/frame.py:3805\u001b[0m, in \u001b[0;36mDataFrame.__getitem__\u001b[0;34m(self, key)\u001b[0m\n\u001b[1;32m   3803\u001b[0m \u001b[38;5;28;01mif\u001b[39;00m \u001b[38;5;28mself\u001b[39m\u001b[38;5;241m.\u001b[39mcolumns\u001b[38;5;241m.\u001b[39mnlevels \u001b[38;5;241m>\u001b[39m \u001b[38;5;241m1\u001b[39m:\n\u001b[1;32m   3804\u001b[0m     \u001b[38;5;28;01mreturn\u001b[39;00m \u001b[38;5;28mself\u001b[39m\u001b[38;5;241m.\u001b[39m_getitem_multilevel(key)\n\u001b[0;32m-> 3805\u001b[0m indexer \u001b[38;5;241m=\u001b[39m \u001b[38;5;28;43mself\u001b[39;49m\u001b[38;5;241;43m.\u001b[39;49m\u001b[43mcolumns\u001b[49m\u001b[38;5;241;43m.\u001b[39;49m\u001b[43mget_loc\u001b[49m\u001b[43m(\u001b[49m\u001b[43mkey\u001b[49m\u001b[43m)\u001b[49m\n\u001b[1;32m   3806\u001b[0m \u001b[38;5;28;01mif\u001b[39;00m is_integer(indexer):\n\u001b[1;32m   3807\u001b[0m     indexer \u001b[38;5;241m=\u001b[39m [indexer]\n",
      "File \u001b[0;32m~/opt/anaconda3/envs/da_practicum_env/lib/python3.9/site-packages/pandas/core/indexes/base.py:3805\u001b[0m, in \u001b[0;36mIndex.get_loc\u001b[0;34m(self, key, method, tolerance)\u001b[0m\n\u001b[1;32m   3803\u001b[0m     \u001b[38;5;28;01mreturn\u001b[39;00m \u001b[38;5;28mself\u001b[39m\u001b[38;5;241m.\u001b[39m_engine\u001b[38;5;241m.\u001b[39mget_loc(casted_key)\n\u001b[1;32m   3804\u001b[0m \u001b[38;5;28;01mexcept\u001b[39;00m \u001b[38;5;167;01mKeyError\u001b[39;00m \u001b[38;5;28;01mas\u001b[39;00m err:\n\u001b[0;32m-> 3805\u001b[0m     \u001b[38;5;28;01mraise\u001b[39;00m \u001b[38;5;167;01mKeyError\u001b[39;00m(key) \u001b[38;5;28;01mfrom\u001b[39;00m \u001b[38;5;21;01merr\u001b[39;00m\n\u001b[1;32m   3806\u001b[0m \u001b[38;5;28;01mexcept\u001b[39;00m \u001b[38;5;167;01mTypeError\u001b[39;00m:\n\u001b[1;32m   3807\u001b[0m     \u001b[38;5;66;03m# If we have a listlike key, _check_indexing_error will raise\u001b[39;00m\n\u001b[1;32m   3808\u001b[0m     \u001b[38;5;66;03m#  InvalidIndexError. Otherwise we fall through and re-raise\u001b[39;00m\n\u001b[1;32m   3809\u001b[0m     \u001b[38;5;66;03m#  the TypeError.\u001b[39;00m\n\u001b[1;32m   3810\u001b[0m     \u001b[38;5;28mself\u001b[39m\u001b[38;5;241m.\u001b[39m_check_indexing_error(key)\n",
      "\u001b[0;31mKeyError\u001b[0m: 'event_timestamp'"
     ]
    }
   ],
   "source": [
    "#добавляем столбец с датой и временем в читаемом формате, и для дальнейших вычислений, также в формате даты\n",
    "logs['event_datetime'] = pd.to_datetime(logs['event_timestamp'], unit='s')\n",
    "logs['event_date'] = logs['event_datetime'].dt.date"
   ]
  },
  {
   "cell_type": "code",
   "execution_count": null,
   "id": "173023c2",
   "metadata": {},
   "outputs": [],
   "source": [
    "#изменим названия групп эксперимента на более понятные\n",
    "logs['group'] = logs['group'].map({246:'A1', 247: 'A2', 248: 'B'})"
   ]
  },
  {
   "cell_type": "code",
   "execution_count": null,
   "id": "440821d4",
   "metadata": {},
   "outputs": [],
   "source": [
    "#проверяем строковый столбец на наличие неявных дубликатов\n",
    "print(logs['event_name'].unique())"
   ]
  },
  {
   "cell_type": "markdown",
   "id": "af4455bb",
   "metadata": {},
   "source": [
    "<div style=\"border: solid LightSeaGreen 2px; padding: 10px; font-size: 16px;\">Получили 5 названий событий:\n",
    "    <ul>\n",
    "        <li> MainScreenAppear - главный экран\n",
    "        <li> PaymentScreenSuccessful - экран успешной оплаты\n",
    "        <li> CartScreenAppear - экран заказа (корзины)\n",
    "        <li> OffersScreenAppear - экран предложения\n",
    "        <li> Tutorial - экран обучения\n",
    "     </ul>\n",
    " </div>"
   ]
  },
  {
   "cell_type": "markdown",
   "id": "ce9c929f",
   "metadata": {},
   "source": [
    "<div style=\"border: solid LightSeaGreen 2px; padding: 10px; font-size: 16px;\">Осталось проверить даты в представленном файле, и выяснить, нет ли \"пробелов\" в записи данных. Если они есть, то необходимо выделить непрерывный отрезок, когда записывались абсолютно все события абсолютно всех пользователей. Если этого не сделать - может получиться неравномерная и неправдивая картина поведения пользователей.</div>"
   ]
  },
  {
   "cell_type": "code",
   "execution_count": null,
   "id": "ce5f206e",
   "metadata": {},
   "outputs": [],
   "source": [
    "#строим гистограмму по столбцу с датой и временем\n",
    "logs['event_datetime'].hist(bins=14, color='CadetBlue')\n",
    "plt.xticks(logs['event_date'].unique(), rotation=30)\n",
    "plt.title('Гистограмма распределения количества логов по дням')\n",
    "plt.ylabel('Количество записей')\n",
    "plt.show()"
   ]
  },
  {
   "cell_type": "markdown",
   "id": "453a4962",
   "metadata": {},
   "source": [
    "<div style=\"border: solid LightSeaGreen 2px; padding: 10px; font-size: 16px;\">Наглядно видно, что до 01-08-2019 данные о событиях неполные. Поэтому в анализе необходимо оставить только диапазон дат 01-08-2019 по 07-08-2019.\n",
    "<p>\n",
    "После формирования отфильтрованного фрейма стоит проверить, какие потери произошли в данных других колонок, и достаточно ли их будет для анализа:</div>"
   ]
  },
  {
   "cell_type": "code",
   "execution_count": null,
   "id": "eb16ea7c",
   "metadata": {},
   "outputs": [],
   "source": [
    "#оставляем в работе фрейм с отфильтрованными датами\n",
    "date = dt.date(2019,8,1)\n",
    "logs_filtered = logs.query('event_date >= @date')"
   ]
  },
  {
   "cell_type": "code",
   "execution_count": null,
   "id": "2402b61a",
   "metadata": {},
   "outputs": [],
   "source": [
    "#проверяем, какие потери в данных после фильтрации, и все ли категории на месте\n",
    "print(\n",
    "    'Процент потерянных записей после фильтрации: {:.2%}'\n",
    "    .format(1-(logs_filtered.shape[0]/logs.shape[0]))\n",
    ")\n",
    "print(\n",
    "    'Процент потерянных пользователей после фильтрации: {:.2%}'\n",
    "    .format(1-(logs_filtered['user_id'].nunique()/logs['user_id'].nunique()))\n",
    ")\n",
    "print(\n",
    "    'Количество наименований событий до фильтрации {} и после {}'\n",
    "    .format(logs['event_name'].nunique(), logs_filtered['event_name'].nunique())\n",
    ")\n",
    "print(\n",
    "    'Количество групп до фильтрации {} и после {}'\n",
    "    .format(logs['group'].nunique(), logs_filtered['group'].nunique())\n",
    ")"
   ]
  },
  {
   "cell_type": "code",
   "execution_count": null,
   "id": "754c664a",
   "metadata": {},
   "outputs": [],
   "source": [
    "#посмотрим, какое количество данных осталось после фильтрации\n",
    "print(\n",
    "    'Количество событий в логе: {}'\n",
    "    .format(logs_filtered['event_name'].count())\n",
    ")\n",
    "print(\n",
    "    'Количество пользователей: {}'\n",
    "    .format(logs_filtered['user_id'].nunique())\n",
    ")\n",
    "print(\n",
    "    'Среднее количество событий на пользователя {:.2f}'\n",
    "    .format(logs_filtered['event_name'].count()/logs_filtered['user_id'].nunique())\n",
    ")"
   ]
  },
  {
   "cell_type": "markdown",
   "id": "e3a33c5a",
   "metadata": {},
   "source": [
    "<div style=\"border: solid LightSeaGreen 2px; padding: 10px; font-size: 16px;\">Потери в рамках допустимых минимальных значений, и все категориальные данные сохранены. Можно переходить к детальному изучению.\n",
    "</div>"
   ]
  },
  {
   "cell_type": "markdown",
   "id": "9c8390e7",
   "metadata": {},
   "source": [
    "## Формирование событийной воронки продаж и ее анализ"
   ]
  },
  {
   "cell_type": "markdown",
   "id": "9453e6c0",
   "metadata": {},
   "source": [
    "<div style=\"border: solid LightSeaGreen 2px; padding: 10px; font-size: 16px;\">Событийная воронка необходима для понимания действий пользователя и анализа, на каком этапе возникает отсеивание пользователей, не дошедших до этапа покупки.<p>\n",
    "Стоит определить, есть ли взаимосвязанные события, которые выстраиваются в цепочку продаж, как часто встречается то или иное событие в цепочке, сколько пользователей побывало на том или ином событии и какой процент переходит на каждый новый этап цепочки.</div>"
   ]
  },
  {
   "cell_type": "code",
   "execution_count": null,
   "id": "872718d6",
   "metadata": {},
   "outputs": [],
   "source": [
    "#формируем таблицу с названиями событий и количеством раз, которые они произошли\n",
    "events_count = logs_filtered['event_name'].value_counts()\n",
    "display(events_count)"
   ]
  },
  {
   "cell_type": "markdown",
   "id": "a4fcb57f",
   "metadata": {},
   "source": [
    "<div style=\"border: solid LightSeaGreen 2px; padding: 10px; font-size: 16px;\">\n",
    "    Заметно, что событие \"Tutorial\" произошло значительно меньше раз, чем остальные. Это логично, ведь обучение необходимо не всем пользователям. Также понятно, что страница Tutorial точно не входит в событийную воронку.\n",
    "</div>"
   ]
  },
  {
   "cell_type": "code",
   "execution_count": null,
   "id": "d02dd76c",
   "metadata": {},
   "outputs": [],
   "source": [
    "#формируем таблицу с названиями событий и количеством пользователей, совершивших это событие\n",
    "users_per_event = (\n",
    "    logs_filtered.groupby('event_name').agg({'user_id': 'nunique'})\n",
    "    .sort_values(by='user_id', ascending=False)\n",
    "    .reset_index()\n",
    ")\n",
    "#переименовываем колонки\n",
    "users_per_event.columns = ['event_name', 'users_count']\n",
    "#считаем процент пользователей от общего числа, совершивших событие\n",
    "users_per_event['percent_of_total_users'] = round(users_per_event['users_count']/logs_filtered['user_id'].nunique()*100,2)\n",
    "display(users_per_event)"
   ]
  },
  {
   "cell_type": "markdown",
   "id": "f8bf13ce",
   "metadata": {},
   "source": [
    "<div style=\"border: solid LightSeaGreen 2px; padding: 10px; font-size: 16px;\">\n",
    "    Видно, что не все пользователи открыли приложение с первого шага. На стартовом этапе у нас всего 98.47 % пользователей. И также видно, что всего 46.97% пользователей от общего числа сделали заказ (дошли до экрана успешной оплаты). Вероятно, потеря 1,5% на первом событии связана либо с неполной картиной событийного ряда (например, не записались события открытия первого экрана), либо с тем, что некоторые пользователи могут заходить в приложение через страницы, отсылающие сразу к предложению (пуш-уведомления со скидкой на товар, или баннер на стороннем сайте с определенным товаром).<p>\n",
    "    Для наглядности уберем из списка событий открытие страницы с обучением, и добавим процент потери на каждом этапе:\n",
    "</div>"
   ]
  },
  {
   "cell_type": "markdown",
   "id": "1a65a728",
   "metadata": {},
   "source": [
    "<div class = 'alert alert-info'>\n",
    "    <h4>Комментарий студента:</h4>\n",
    "    Дорогой ревьюер, изначально я написала вот такой код для добавления процента потери пользователей при переходе с этапа на этап. Но потом в жарких обсуждениях с коллегами увидела великолепный метод shift, о котором не знала, и решила использовать его, ведь это значительно сокращает запись. Но дабы не попасть на обвинения в плагиате, прикрепляю то, что было изначально:\n",
    "    </div>"
   ]
  },
  {
   "cell_type": "markdown",
   "id": "64dcddc5",
   "metadata": {},
   "source": [
    "```\n",
    "users_per_event['stage_loss'] = pd.Series(0,range(len(users_per_event)))\n",
    "for i in range(len(users_per_event)):\n",
    "    try:\n",
    "        users_per_event.loc[i,'stage_loss'] = (\n",
    "            round((1-users_per_event.loc[i,'users_count']/users_per_event.loc[i-1, 'users_count'])*100,2)\n",
    "        )\n",
    "    except:\n",
    "        users_per_event.loc[i, 'stage_loss'] = 0\n",
    "````"
   ]
  },
  {
   "cell_type": "code",
   "execution_count": null,
   "id": "2054daf3",
   "metadata": {},
   "outputs": [],
   "source": [
    "#убираем экран с обучением из воронки\n",
    "users_per_event = users_per_event[users_per_event['event_name'] != \"Tutorial\"]\n",
    "#добавляем процент потери на каждом этапе\n",
    "users_per_event['stage_loss'] = round(\n",
    "    (1- (users_per_event['users_count'] / users_per_event['users_count'].shift()))*100, 2\n",
    ").fillna(0)\n",
    "#расчитываем процент пользователей, прошедших с главного экрана до оплаты\n",
    "payers_percent = (round(\n",
    "    int(users_per_event[users_per_event['event_name'] == \"PaymentScreenSuccessful\"]['users_count']) / \\\n",
    "    int(users_per_event[users_per_event['event_name'] == \"MainScreenAppear\"]['users_count']) *100,2)\n",
    ")\n",
    "display(users_per_event)\n",
    "print('Процент пользователей, перешедших с первого события до оплаты {}'.format(payers_percent))"
   ]
  },
  {
   "cell_type": "markdown",
   "id": "43d1bcca",
   "metadata": {},
   "source": [
    "<div style=\"border: solid LightSeaGreen 2px; padding: 10px; font-size: 16px;\">Процент пользователей, сконвертировавшихся в покупателей внутри воронки немного выше - 47.7%. Однако явно есть, что улучшать.</div>"
   ]
  },
  {
   "cell_type": "code",
   "execution_count": null,
   "id": "99128537",
   "metadata": {},
   "outputs": [],
   "source": [
    "#строим воронку событий с указанием количества пользователей на каждом шаге\n",
    "fig = go.Figure(go.Funnel(x=users_per_event['users_count'], y=users_per_event['event_name'], textposition = \"inside\",\n",
    "    textinfo = \"value+percent previous\", marker = {\"color\": \"Teal\"}))\n",
    "fig.update_layout(title={\n",
    "                        'text': \"Воронка событий по всем пользователям\",\n",
    "                        'y':0.95,\n",
    "                        'x':0.59,\n",
    "                        'xanchor': 'center',\n",
    "                        'yanchor': 'middle'},\n",
    "                  yaxis_title=\"Название события\",\n",
    "                  margin=dict(l=0, r=0, t=50, b=20))\n",
    "fig.show()"
   ]
  },
  {
   "cell_type": "markdown",
   "id": "82b57793",
   "metadata": {},
   "source": [
    "<div style=\"border: solid LightSeaGreen 2px; padding: 10px; font-size: 16px;\">\n",
    "  На визуализации воронки, и в значениях потери этапа видно, что основная потеря пользователей происходит после главного экрана. Почти 40% пользователей не переходят дальше. Однозначно, следует оценить, что именно происходит на этом этапе подробнее.\n",
    "</div>"
   ]
  },
  {
   "cell_type": "code",
   "execution_count": null,
   "id": "542fe0f9",
   "metadata": {},
   "outputs": [],
   "source": [
    "#строим таблицу с временем первого события в каждом дне для пользователей\n",
    "first_events = (\n",
    "    logs_filtered.sort_values(by=['user_id', 'event_datetime'])\n",
    "    .pivot_table(index=['user_id','event_date'], columns='event_name', values='event_datetime', aggfunc='first')\n",
    ").drop(columns='Tutorial')\n",
    "\n",
    "first_events = first_events[['MainScreenAppear', 'OffersScreenAppear', 'CartScreenAppear', 'PaymentScreenSuccessful']]\n",
    "\n",
    "#рассчитываем длительность пребывания на каждом этапе\n",
    "first_events['mainscreen_time'] = first_events['OffersScreenAppear'] - first_events['MainScreenAppear']\n",
    "first_events['offerscreen_time'] = first_events['CartScreenAppear'] - first_events['OffersScreenAppear']\n",
    "first_events['cartscreen_time'] = first_events['PaymentScreenSuccessful'] - first_events['CartScreenAppear']\n",
    "\n",
    "display(first_events)\n",
    "\n",
    "#для пользователей, совершивших переходы, считаем среднюю длительность нахождения на каждом этапе\n",
    "print(\n",
    "    'Среднее время просмотра главного экрана: {}, экрана с предложением: {}, корзины: {}'\n",
    "    .format(first_events['mainscreen_time'].mean(), \\\n",
    "            first_events['offerscreen_time'].mean(), first_events['cartscreen_time'].mean())\n",
    ")\n"
   ]
  },
  {
   "cell_type": "markdown",
   "id": "d270b4de",
   "metadata": {},
   "source": [
    "<div style=\"border: solid LightSeaGreen 2px; padding: 10px; font-size: 16px;\">\n",
    "    Интересный момент, что среди сконвертировавшихся на следующий этап пользователей, среднее время первого просмотра главного экрана составило 23 минуты. Следует запросить данные о длительности сессий, и посмотреть эту величину детальнее еще и у пользователей, ушедших с этого этапа.<p>\n",
    "    Работа с данным пунктом невозможна в дальнейшем исслеовании в рамках работы, но была бы весьма полезна для интернет-магазина\n",
    "</div>"
   ]
  },
  {
   "cell_type": "code",
   "execution_count": null,
   "id": "f3e0b471",
   "metadata": {},
   "outputs": [],
   "source": [
    "#строим сводную таблицу количества событий для каждого пользователя\n",
    "events_per_user = (\n",
    "    logs_filtered\n",
    "    .pivot_table(index='user_id', columns='event_name', values='event_datetime', aggfunc='count')\n",
    "    .fillna(0)\n",
    ").drop(columns='Tutorial')\n",
    "\n",
    "events_per_user = events_per_user[['MainScreenAppear', 'OffersScreenAppear', \\\n",
    "                                   'CartScreenAppear', 'PaymentScreenSuccessful']]\n",
    "\n",
    "display(events_per_user)\n",
    "\n",
    "#выделяем пользователей, которые не прошли дальше главного экрана\n",
    "only_mainscreen_users = (\n",
    "    events_per_user\n",
    "    .query('MainScreenAppear != 0 and CartScreenAppear == 0 \\\n",
    "    and OffersScreenAppear == 0 and PaymentScreenSuccessful == 0')\n",
    ")\n",
    "\n",
    "#считаем среднее количество заходов на главный экран\n",
    "print(\n",
    "    'Среднее количество заходов на главный экран у пользователей, совершивших только это действие: {:.2f}'\n",
    "    .format(only_mainscreen_users['MainScreenAppear'].mean())\n",
    ")\n",
    "#и какой процент неперешедших пользователей сделал более одной попытки\n",
    "print(\n",
    "    'Процент пользователей, у которых более одного захода на главный экран, совершивших только это действие: {:.2%}'\n",
    "    .format(only_mainscreen_users[only_mainscreen_users['MainScreenAppear']>1].shape[0] / \\\n",
    "            only_mainscreen_users.shape[0])\n",
    ")"
   ]
  },
  {
   "cell_type": "markdown",
   "id": "3f765092",
   "metadata": {},
   "source": [
    "<div style=\"border: solid LightSeaGreen 2px; padding: 10px; font-size: 16px;\">\n",
    "    Весьма показательные цифры: неперешедшие дальше главного экрана пользователи предпринимали в среднем 15 попыток зайти в приложение, и более 95% таких пользователей сделали более одной попытки зайти в приложение. <p>\n",
    "    Здесь мы обнаружили возможность дополнительного исследования, но предоставленные данные на текущий момент, не позволяют провести детальный анализ.<p>\n",
    "    Можно сделать заметку, что стоит оценить интуитивную понятность главного экрана, разработать методы привлечения ушедших пользователей, протестировать некоторые изменения интерфейса.\n",
    "</div>"
   ]
  },
  {
   "cell_type": "markdown",
   "id": "6424bdb0",
   "metadata": {},
   "source": [
    "## Проведение А/А теста как подготовка к запуску А/А/В-теста по исследованию изменения шрифта. Проверка корректности работы механизма расчета теста."
   ]
  },
  {
   "cell_type": "markdown",
   "id": "30dc3183",
   "metadata": {},
   "source": [
    "<div style=\"border: solid LightSeaGreen 2px; padding: 10px; font-size: 16px;\">\n",
    "Для того, чтобы оценить корректность проводимого теста, стоит проверить следующие критерии в контрольных группах А:\n",
    "<ol>\n",
    "    <li> Все пользователи должны быть равномерно распределены по группам. Рекомендуемый порог \"перевеса\" - 1%\n",
    "    <li> Не должно быть пользователей, попавших в две и более групп\n",
    "    <li> Не должно быть статистически значимого различия основных показателей в контрольных группах\n",
    "    </ol></div>"
   ]
  },
  {
   "cell_type": "code",
   "execution_count": null,
   "id": "dd55249c",
   "metadata": {},
   "outputs": [],
   "source": [
    "#проверка на попадание одних и тех же пользователей в разные группы\n",
    "logs_filtered.groupby('user_id').agg({'group':'nunique'}).query('group >1')"
   ]
  },
  {
   "cell_type": "markdown",
   "id": "50ea933c",
   "metadata": {},
   "source": [
    "<div style=\"border: solid LightSeaGreen 2px; padding: 10px; font-size: 16px;\">Пользователей, попавших в две и более группы - нет</div>"
   ]
  },
  {
   "cell_type": "code",
   "execution_count": null,
   "id": "24a95aec",
   "metadata": {},
   "outputs": [],
   "source": [
    "#проверка на равномерность наполнения групп\n",
    "print(\n",
    "    'Количество пользователей в группе А1: {}'.format(logs_filtered.query('group == \"A1\"')['user_id'].nunique())\n",
    ")\n",
    "print(\n",
    "    'Количество пользователей в группе А2: {}'.format(logs_filtered.query('group == \"A2\"')['user_id'].nunique())\n",
    ")\n",
    "print(\n",
    "    'Количество пользователей в группе В: {}'.format(logs_filtered.query('group == \"B\"')['user_id'].nunique())\n",
    ")\n",
    "print(\n",
    "    'Разница в количестве пользователей между группами А1 и А2: {:.2%}'\n",
    "    .format(1-(logs_filtered.query('group == \"A1\"')['user_id'].nunique()/ \\\n",
    "               logs_filtered.query('group == \"A2\"')['user_id'].nunique()))\n",
    ")\n",
    "print(\n",
    "    'Разница в количестве пользователей между группами А1 и B: {:.2%}'\n",
    "    .format(1-(logs_filtered.query('group == \"A1\"')['user_id'].nunique()/ \\\n",
    "               logs_filtered.query('group == \"B\"')['user_id'].nunique()))\n",
    ")"
   ]
  },
  {
   "cell_type": "markdown",
   "id": "dd3e260d",
   "metadata": {},
   "source": [
    "<div style=\"border: solid LightSeaGreen 2px; padding: 10px; font-size: 16px;\">\n",
    "Разница между группами А1 и А2 составляет 1.15%, а между группой А1 и В - 2.09%. Безусловно, это выше рекомендуемого значения. В идеальных условиях, стоило откорректировать процесс записи результатов теста, настроить показы определенным образом, чтобы распределение было в допустимых рамках. Однако превышение не слишком высокое, и нет возможности на текущем этапе сделать корректировку сбора данных, поэтому продолжим анализ.</div>"
   ]
  },
  {
   "cell_type": "code",
   "execution_count": null,
   "id": "4d01c670",
   "metadata": {},
   "outputs": [],
   "source": [
    "#сформируем таблицы с названиями событий и количеством пользователей, совершивших это событие\n",
    "#чтобы трижды не копировать код, напишем функцию\n",
    "def users_per_event_frame(data):\n",
    "    users_per_event_frame = (\n",
    "        data.groupby('event_name').agg({'user_id': 'nunique'})\n",
    "        .sort_values(by='user_id', ascending=False)\n",
    "        .reset_index()\n",
    "    )\n",
    "    users_per_event_frame['total_users'] = data['user_id'].nunique()\n",
    "    users_per_event_frame.columns = ['event_name', 'users_count', 'total_users']\n",
    "    users_per_event_frame = users_per_event_frame[users_per_event_frame['event_name'] != \"Tutorial\"]\n",
    "    display(users_per_event_frame)\n",
    "    return users_per_event_frame\n",
    "\n",
    "users_per_event_a1 = users_per_event_frame(logs_filtered.query('group == \"A1\"'))\n",
    "users_per_event_a2 = users_per_event_frame(logs_filtered.query('group == \"A2\"'))\n",
    "users_per_event_b = users_per_event_frame(logs_filtered.query('group == \"B\"'))"
   ]
  },
  {
   "cell_type": "code",
   "execution_count": null,
   "id": "c6ea352b",
   "metadata": {},
   "outputs": [],
   "source": [
    "#строим общую воронку по трем группам\n",
    "fig = go.Figure()\n",
    "\n",
    "fig.add_trace(go.Funnel(\n",
    "    name = 'A1',\n",
    "    y = users_per_event_a1['event_name'],\n",
    "    x = users_per_event_a1['users_count'],\n",
    "    marker = {\"color\": \"DarkCyan\"},\n",
    "    textinfo = \"value+percent previous\"))\n",
    "\n",
    "fig.add_trace(go.Funnel(\n",
    "    name = 'A2',\n",
    "    y = users_per_event_a2['event_name'],\n",
    "    x = users_per_event_a2['users_count'],\n",
    "    opacity = 0.65,\n",
    "    marker = {\"color\": \"Cyan\"},\n",
    "    textinfo = \"value+percent previous\"))\n",
    "\n",
    "fig.add_trace(go.Funnel(\n",
    "    name = 'B',\n",
    "    y = users_per_event_b['event_name'],\n",
    "    x = users_per_event_b['users_count'],\n",
    "    marker = {\"color\": \"DarkTurquoise\"},\n",
    "    textinfo = \"value+percent previous\"))\n",
    "\n",
    "fig.update_layout(title={\n",
    "                        'text': \"Воронка событий по группам пользователей\",\n",
    "                        'y':0.95,\n",
    "                        'x':0.55,\n",
    "                        'xanchor': 'center',\n",
    "                        'yanchor': 'middle'},\n",
    "                  yaxis_title=\"Название события\",\n",
    "                  margin=dict(l=0, r=0, t=50, b=20))\n",
    "\n",
    "fig.show()"
   ]
  },
  {
   "cell_type": "markdown",
   "id": "069f5295",
   "metadata": {},
   "source": [
    "<div style=\"border: solid LightSeaGreen 2px; padding: 10px; font-size: 16px;\">Общая воронка по трем группам выглядит примерно равной, однако видно, что из этапа в этап пользователи группы А1 конвертируются чуть лучше остальных. Стоит проверить, есть ли статистически значимая разница доли пользоателей, перешедших на каждое из событий, между двумя контрольными группами А1 и А2. Если есть - мы не можем продолжать исследование, так как это будет означать, что поведение пользователей в одном и том же интерфейсе различно, и сравнивать поведение с группой, которая видит измененый шрифт, неразумно.</div>"
   ]
  },
  {
   "cell_type": "markdown",
   "id": "037fd18e",
   "metadata": {},
   "source": [
    "<div style=\"border: solid LightSeaGreen 2px; padding: 10px; font-size: 16px;\">\n",
    "Сделаем z-тест для оценки статистически значимой разницы между долями пользователей. <p>\n",
    "Будем рассчитывать для каждой группы долю пользователей, перешедших на каждое событие, относительно общего количества пользователей в группе.<p>\n",
    "Сформулируем нулевую гипотезу:  <p>\n",
    "<blockquote>Различие между долями пользователей отсуствует</blockquote>\n",
    "Сформулируем альтернативную гипотезу:  <p>\n",
    "<blockquote>Различие между долями существует</blockquote>\n",
    "Формулировка альтернативной гипотезы не уточняет направленность различия - отрицательное или положительное. Поэтому тест имеет двусторонний характер. Это важно учитывать при расчете p-value, значения, подсвечивающего результат теста. <p>\n",
    "<b>Если p-value будет больше заданного уровня значимости, то отвергать нулевую гипотезу нельзя. Если же p-value меньше уровня значимости, то нулевая гипотеза отвергается в пользу альтернативной. Значит статистически значимая разница между группами есть.</b><p>\n",
    "Уровень значимости стоит выставить на уровне 5%, помимо этого стит применить метод Холма для корректировки уровня значимости при множественном эксперименте.</div>"
   ]
  },
  {
   "cell_type": "code",
   "execution_count": null,
   "id": "c955a6f9",
   "metadata": {},
   "outputs": [],
   "source": [
    "#напишем функцию, чтобы сократить вставки с кодом:\n",
    "def z_test_proportion(group1, group2, alpha):\n",
    "    #делаем цикл внутри функции, чтобы сразу сделать проверку по всем событиям внутри групп\n",
    "    for i in range(len(group1)):\n",
    "\n",
    "        results = [int(group1.loc[i, 'users_count']), int(group2.loc[i, 'users_count'])]\n",
    "        trials = [int(group1.loc[i, 'total_users']), int(group2.loc[i, 'total_users'])]\n",
    "\n",
    "    #пропорция в первой группе:\n",
    "        p1 = results[0]/trials[0]\n",
    "\n",
    "    #пропорция во второй группе:\n",
    "        p2 = results[1]/trials[1]\n",
    "\n",
    "    #пропорция в комбинированном датасете:\n",
    "        p_combined = (results[0] + results[1]) / (trials[0] + trials[1])\n",
    "\n",
    "    #разница пропорций в датасетах\n",
    "        difference = p1 - p2 \n",
    "\n",
    "    #считаем z_value\n",
    "        z_value = difference / mth.sqrt(p_combined * (1 - p_combined) * (1/trials[0] + 1/trials[1]))\n",
    "\n",
    "    #преобразовываем z_value в p-value, умножая на 2 для двустороннего теста\n",
    "        p_value = st.norm.sf(abs(z_value))*2\n",
    "\n",
    "    #задаем уровень значимости с поправкой на количество проводимых тестов (используем метод Холма)\n",
    "        alpha_in_test = alpha/(len(group1) -  i)\n",
    "\n",
    "    #выполняем проверку\n",
    "        print(\n",
    "            'Для события {} p-значение: {:.5f} при заданной alpha {:.5f}'\n",
    "            .format(group1.loc[i, 'event_name'], p_value, alpha_in_test)\n",
    "        )\n",
    "\n",
    "        if p_value < alpha_in_test:\n",
    "            print('Отвергаем нулевую гипотезу: между долями есть значимая разница')\n",
    "        else:\n",
    "            print(\n",
    "            'Не получилось отвергнуть нулевую гипотезу, нет оснований считать доли разными'\n",
    "            ) "
   ]
  },
  {
   "cell_type": "markdown",
   "id": "3e4ec1f6",
   "metadata": {},
   "source": [
    "<div style=\"border: solid LightSeaGreen 2px; padding: 10px; font-size: 16px;\">Проверяем статистически значимую разницу доли пользователей, перешедших на каждый из этапов, для контрольных групп А1 и А2:</div>"
   ]
  },
  {
   "cell_type": "code",
   "execution_count": null,
   "id": "73b48e34",
   "metadata": {},
   "outputs": [],
   "source": [
    "#запускаем функцию, передавая ей датафреймы с группами а1 и а2\n",
    "z_test_proportion(\n",
    "    users_per_event_a1,\n",
    "    users_per_event_a2,\n",
    "    0.05\n",
    ")"
   ]
  },
  {
   "cell_type": "markdown",
   "id": "5e3da6f0",
   "metadata": {},
   "source": [
    "<div style=\"border: solid LightSeaGreen 2px; padding: 10px; font-size: 16px;\">Z-тест показал отсутствие статистически значимой разницы между контрольными группами. Значит можно продолжить анализ и сравнение с группой В.</div>"
   ]
  },
  {
   "cell_type": "markdown",
   "id": "9ef0db0b",
   "metadata": {},
   "source": [
    "## Анализ результатов А/А/В теста с целью проверки необходимости изменения шрифта в приложении."
   ]
  },
  {
   "cell_type": "markdown",
   "id": "e516d49f",
   "metadata": {},
   "source": [
    "<div style=\"border: solid LightSeaGreen 2px; padding: 10px; font-size: 16px;\">Теперь необходимо запустить оценку статистически значимой разницы в следующих парах групп:\n",
    "<ol>\n",
    "    <li> Группа А1 и группа В\n",
    "    <li> Группа А2 и группа В\n",
    "    <li> Объединенная группа А (А1+А2) и группа В\n",
    "</ol>\n",
    "В случае обнаружения статистически значимой разницы в долях пользователей, перешедших на каждый этап воронки, стоит отдельно оценить направленность - уменьшилась или увеличилась эта доля в сравнении с контрольной группой.<p>\n",
    "Если же при проверке окажется, что статистически значимая разница отсусттвует, то A/A/B тест можно завершать с указанием, что изменение шрифта никак не отразилось на поведении пользователей внутри приложения.</div>"
   ]
  },
  {
   "cell_type": "markdown",
   "id": "52cc801f",
   "metadata": {},
   "source": [
    "<div style=\"border: solid LightSeaGreen 2px; padding: 10px; font-size: 16px;\">Проверяем группы А1 и В:</div>"
   ]
  },
  {
   "cell_type": "code",
   "execution_count": null,
   "id": "8b0572a1",
   "metadata": {},
   "outputs": [],
   "source": [
    "#запускаем функцию, передавая ей датафреймы с группами A1 и B\n",
    "z_test_proportion(\n",
    "    users_per_event_a1,\n",
    "    users_per_event_b,\n",
    "    0.05\n",
    ")"
   ]
  },
  {
   "cell_type": "markdown",
   "id": "3303da26",
   "metadata": {},
   "source": [
    "<div style=\"border: solid LightSeaGreen 2px; padding: 10px; font-size: 16px;\">Статистически значимое различие отсуствует. Пользователи групп А1 и В конвертируются на каждый этап одинаково.</div>"
   ]
  },
  {
   "cell_type": "markdown",
   "id": "71428044",
   "metadata": {},
   "source": [
    "<div style=\"border: solid LightSeaGreen 2px; padding: 10px; font-size: 16px;\">Проверяем группы А2 и В:</div>"
   ]
  },
  {
   "cell_type": "code",
   "execution_count": null,
   "id": "fae18489",
   "metadata": {},
   "outputs": [],
   "source": [
    "#запускаем функцию, передавая ей датафреймы с группами A2 и B\n",
    "z_test_proportion(\n",
    "    users_per_event_a2,\n",
    "    users_per_event_b,\n",
    "    0.05\n",
    ")"
   ]
  },
  {
   "cell_type": "markdown",
   "id": "7fe73e65",
   "metadata": {},
   "source": [
    "<div style=\"border: solid LightSeaGreen 2px; padding: 10px; font-size: 16px;\">Статистически значимое различие отсуствует. Пользователи групп А2 и В конвертируются на каждый этап одинаково.</div>"
   ]
  },
  {
   "cell_type": "markdown",
   "id": "f7571780",
   "metadata": {},
   "source": [
    "<div style=\"border: solid LightSeaGreen 2px; padding: 10px; font-size: 16px;\">Проверяем группу А(А1+А2) и В:</div>"
   ]
  },
  {
   "cell_type": "code",
   "execution_count": null,
   "id": "727c5adb",
   "metadata": {},
   "outputs": [],
   "source": [
    "#запускаем функцию, передавая ей датафреймы с группами A1+A2 и B\n",
    "z_test_proportion(\n",
    "    users_per_event_a1+users_per_event_a2,\n",
    "    users_per_event_b,\n",
    "    0.05\n",
    ")"
   ]
  },
  {
   "cell_type": "markdown",
   "id": "17ede01a",
   "metadata": {},
   "source": [
    "<div style=\"border: solid LightSeaGreen 2px; padding: 10px; font-size: 16px;\">Статистически значимое различие отсуствует. Пользователи групп А и В конвертируются на каждый этап одинаково.</div>"
   ]
  },
  {
   "cell_type": "markdown",
   "id": "9cd06ca0",
   "metadata": {},
   "source": [
    "<div style=\"border: solid LightSeaGreen 2px; padding: 10px; font-size: 16px;\">По итогу проведения всех z-тестов можно однозначно сказать, что разница в конвертации пользователей в каждый из этапов воронки между группами отсуствует.<p>\n",
    "    Новый шрифт в приложении не улучшил, и не ухудшил ситуацию.\n",
    "    </div>"
   ]
  },
  {
   "cell_type": "markdown",
   "id": "8c1f233a",
   "metadata": {},
   "source": [
    "## Итоговые выводы и рекомендации."
   ]
  },
  {
   "cell_type": "markdown",
   "id": "57eb6677",
   "metadata": {},
   "source": [
    "<div style=\"border: solid LightSeaGreen 2px; padding: 10px; font-size: 16px;\">\n",
    "    Были рассмотрены данные лога с событиями пользователей внутри мобильного приложения.<p>\n",
    "    Выявлена воронка событий с перемещением пользователей внутри приложения по 4 этапам:\n",
    "    <ul>\n",
    "        <li> MainScreenAppear\n",
    "        <li> OffersScreenAppear\n",
    "        <li> CartScreenAppear\n",
    "        <li> PaymentScreenSuccessful\n",
    "    </ul>\n",
    "    При оценке событийной воронки по общим данным было выявлено:\n",
    "    <ul>\n",
    "        <li> Не все пользователи переходят сразу на первый этап. Около 1,5% попадают на другие экраны. Этот пункт требует дополнительного изучения - расширения лога, вероятно не все сессии записались.\n",
    "        <li> 38% пользователей теряется после события MainScreenAppear, и не переходят на следующий этап, при этом такие пользователи в среднем предпринимают 15 попыток захода в приложение, и 95,5% из них - более одного раза. Здесь необходимо провести отдельный анализ, оценить причину, по которой такое большое число пользователей не переходят на этап просмотра экрана OffersScreenAppear.\n",
    "        <li> Еще 18% пользователей отсеивается до перехода на этап CartScreenAppear, этот показатель также стоит протестировать и проанализировать отдельно.\n",
    "        <li> Общий процент пользователей, сконвертировавшихся внутри воронки с первого до последнего этапа (от главного экрана до успешной оплаты) - 47.7%. Этот показатель однозначно можно улучшить, проведя исследование потерь на этапах MainScreenAppear и OffersScreenAppear.\n",
    "    </ul>\n",
    "<p>\n",
    "    <h4>Далее были рассмотрены результаты проведенного А/А/В тестирования на изменение шрифта в приложении. Имеются следующие выводы:</h4>\n",
    "    <ul>\n",
    "        <li> При записи результатов, различие в количестве пользователей между двумя контрольными группами составило 1,15%, а между контрольными и экспериментальной - чуть более 2%. Этот показатель говорит о небольшом искажении результатов, однако не противоречит последующему продолжению анализа.\n",
    "        <li> Сравнение двух контрольных групп пользователей показало <b>отсутствие разницы в поведении пользователей и прохождении от этапа к этапу внутри событийной воронки</b>.\n",
    "        <li> Сравнение контрольных групп пользователей и экспериментальной также показало <b>отсутствие разницы в поведении пользователей и прохождении от этапа к этапу внутри событийной воронки</b>.\n",
    "    </ul>\n",
    "    <b>По итогу рассмотрения всех данных, можно признать тест оконченным и различие между группами невыявленным. Изменение или сохранение действующего шрифта остается на усмотрение менеджеров.</b>\n",
    "    </div>"
   ]
  }
 ],
 "metadata": {
  "kernelspec": {
   "display_name": "Python 3 (ipykernel)",
   "language": "python",
   "name": "python3"
  },
  "language_info": {
   "codemirror_mode": {
    "name": "ipython",
    "version": 3
   },
   "file_extension": ".py",
   "mimetype": "text/x-python",
   "name": "python",
   "nbconvert_exporter": "python",
   "pygments_lexer": "ipython3",
   "version": "3.9.13"
  }
 },
 "nbformat": 4,
 "nbformat_minor": 5
}
